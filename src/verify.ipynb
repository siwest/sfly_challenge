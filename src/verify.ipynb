{
 "cells": [
  {
   "cell_type": "code",
   "execution_count": 1,
   "metadata": {
    "collapsed": true
   },
   "outputs": [],
   "source": [
    "import matplotlib\n",
    "import numpy as np\n",
    "import pandas as pd\n",
    "%matplotlib inline"
   ]
  },
  {
   "cell_type": "code",
   "execution_count": 2,
   "metadata": {
    "collapsed": true
   },
   "outputs": [],
   "source": [
    "input_df = pd.read_json('./input/input.txt')"
   ]
  },
  {
   "cell_type": "code",
   "execution_count": 3,
   "metadata": {
    "collapsed": true
   },
   "outputs": [],
   "source": [
    "input_df.fillna(\"\", inplace=True)"
   ]
  },
  {
   "cell_type": "code",
   "execution_count": 4,
   "metadata": {},
   "outputs": [
    {
     "data": {
      "text/html": [
       "<div>\n",
       "<style>\n",
       "    .dataframe thead tr:only-child th {\n",
       "        text-align: right;\n",
       "    }\n",
       "\n",
       "    .dataframe thead th {\n",
       "        text-align: left;\n",
       "    }\n",
       "\n",
       "    .dataframe tbody tr th {\n",
       "        vertical-align: top;\n",
       "    }\n",
       "</style>\n",
       "<table border=\"1\" class=\"dataframe\">\n",
       "  <thead>\n",
       "    <tr style=\"text-align: right;\">\n",
       "      <th></th>\n",
       "      <th>adr_city</th>\n",
       "      <th>adr_state</th>\n",
       "      <th>camera_make</th>\n",
       "      <th>customer_id</th>\n",
       "      <th>event_time</th>\n",
       "      <th>key</th>\n",
       "      <th>last_name</th>\n",
       "      <th>total_amount</th>\n",
       "      <th>type</th>\n",
       "      <th>verb</th>\n",
       "    </tr>\n",
       "  </thead>\n",
       "  <tbody>\n",
       "    <tr>\n",
       "      <th>0</th>\n",
       "      <td></td>\n",
       "      <td>CA</td>\n",
       "      <td></td>\n",
       "      <td></td>\n",
       "      <td>2017-06-04 14:55:05</td>\n",
       "      <td>a1881c06eec9</td>\n",
       "      <td>West</td>\n",
       "      <td></td>\n",
       "      <td>CUSTOMER</td>\n",
       "      <td>NEW</td>\n",
       "    </tr>\n",
       "    <tr>\n",
       "      <th>1</th>\n",
       "      <td></td>\n",
       "      <td></td>\n",
       "      <td></td>\n",
       "      <td>7d112681b8dd</td>\n",
       "      <td>2017-06-03 00:25:45</td>\n",
       "      <td>7d112681b8dd</td>\n",
       "      <td></td>\n",
       "      <td>913 USD</td>\n",
       "      <td>ORDER</td>\n",
       "      <td>UPDATE</td>\n",
       "    </tr>\n",
       "    <tr>\n",
       "      <th>2</th>\n",
       "      <td>Portland</td>\n",
       "      <td>NJ</td>\n",
       "      <td></td>\n",
       "      <td></td>\n",
       "      <td>2017-06-05 16:41:17</td>\n",
       "      <td>312a46dc5211</td>\n",
       "      <td>Lucy</td>\n",
       "      <td></td>\n",
       "      <td>CUSTOMER</td>\n",
       "      <td>UPDATE</td>\n",
       "    </tr>\n",
       "    <tr>\n",
       "      <th>3</th>\n",
       "      <td></td>\n",
       "      <td></td>\n",
       "      <td></td>\n",
       "      <td>86f284342106</td>\n",
       "      <td>2017-06-04 11:59:31</td>\n",
       "      <td>86f284342106</td>\n",
       "      <td></td>\n",
       "      <td></td>\n",
       "      <td>SITE_VISIT</td>\n",
       "      <td>NEW</td>\n",
       "    </tr>\n",
       "    <tr>\n",
       "      <th>4</th>\n",
       "      <td></td>\n",
       "      <td></td>\n",
       "      <td>Kodak</td>\n",
       "      <td>7d112681b8dd</td>\n",
       "      <td>2017-06-01 17:11:42</td>\n",
       "      <td>7d112681b8dd</td>\n",
       "      <td></td>\n",
       "      <td></td>\n",
       "      <td>IMAGE</td>\n",
       "      <td>UPLOAD</td>\n",
       "    </tr>\n",
       "  </tbody>\n",
       "</table>\n",
       "</div>"
      ],
      "text/plain": [
       "   adr_city adr_state camera_make   customer_id          event_time  \\\n",
       "0                  CA                           2017-06-04 14:55:05   \n",
       "1                                  7d112681b8dd 2017-06-03 00:25:45   \n",
       "2  Portland        NJ                           2017-06-05 16:41:17   \n",
       "3                                  86f284342106 2017-06-04 11:59:31   \n",
       "4                           Kodak  7d112681b8dd 2017-06-01 17:11:42   \n",
       "\n",
       "            key last_name total_amount        type    verb  \n",
       "0  a1881c06eec9      West                 CUSTOMER     NEW  \n",
       "1  7d112681b8dd                913 USD       ORDER  UPDATE  \n",
       "2  312a46dc5211      Lucy                 CUSTOMER  UPDATE  \n",
       "3  86f284342106                         SITE_VISIT     NEW  \n",
       "4  7d112681b8dd                              IMAGE  UPLOAD  "
      ]
     },
     "execution_count": 4,
     "metadata": {},
     "output_type": "execute_result"
    }
   ],
   "source": [
    "input_df.head()"
   ]
  },
  {
   "cell_type": "code",
   "execution_count": 5,
   "metadata": {},
   "outputs": [],
   "source": [
    "input_df['total_amount_in_dollars'] = pd.to_numeric(input_df['total_amount'].apply(lambda x: x.replace(\" USD\",\"\"))) \n",
    "expenditures_per_customer_sorted = input_df.groupby('customer_id').agg({'total_amount_in_dollars': np.sum}).sort_values('total_amount_in_dollars', ascending = False)"
   ]
  },
  {
   "cell_type": "code",
   "execution_count": 6,
   "metadata": {},
   "outputs": [],
   "source": [
    "customer_site_visits = input_df[input_df['type'] == 'SITE_VISIT']\n",
    "site_visit = customer_site_visits.groupby('customer_id')['type'].count()"
   ]
  },
  {
   "cell_type": "code",
   "execution_count": 7,
   "metadata": {},
   "outputs": [],
   "source": [
    "frames = [expenditures_per_customer_sorted, site_visit]\n",
    "result = pd.concat(frames, axis=1, join='inner')"
   ]
  },
  {
   "cell_type": "code",
   "execution_count": 8,
   "metadata": {},
   "outputs": [
    {
     "data": {
      "text/html": [
       "<div>\n",
       "<style>\n",
       "    .dataframe thead tr:only-child th {\n",
       "        text-align: right;\n",
       "    }\n",
       "\n",
       "    .dataframe thead th {\n",
       "        text-align: left;\n",
       "    }\n",
       "\n",
       "    .dataframe tbody tr th {\n",
       "        vertical-align: top;\n",
       "    }\n",
       "</style>\n",
       "<table border=\"1\" class=\"dataframe\">\n",
       "  <thead>\n",
       "    <tr style=\"text-align: right;\">\n",
       "      <th></th>\n",
       "      <th>total_amount_in_dollars</th>\n",
       "      <th>count_visits</th>\n",
       "      <th>lifetime_value</th>\n",
       "    </tr>\n",
       "    <tr>\n",
       "      <th>customer_id</th>\n",
       "      <th></th>\n",
       "      <th></th>\n",
       "      <th></th>\n",
       "    </tr>\n",
       "  </thead>\n",
       "  <tbody>\n",
       "    <tr>\n",
       "      <th>7bdeecc97cf8</th>\n",
       "      <td>32975.0</td>\n",
       "      <td>7</td>\n",
       "      <td>2.449571e+06</td>\n",
       "    </tr>\n",
       "    <tr>\n",
       "      <th>0b7f849446d3</th>\n",
       "      <td>21576.0</td>\n",
       "      <td>3</td>\n",
       "      <td>3.739840e+06</td>\n",
       "    </tr>\n",
       "    <tr>\n",
       "      <th>312a46dc5211</th>\n",
       "      <td>14744.0</td>\n",
       "      <td>3</td>\n",
       "      <td>2.555627e+06</td>\n",
       "    </tr>\n",
       "    <tr>\n",
       "      <th>a14c955bda57</th>\n",
       "      <td>8227.0</td>\n",
       "      <td>3</td>\n",
       "      <td>1.426013e+06</td>\n",
       "    </tr>\n",
       "    <tr>\n",
       "      <th>b3daa77b4c04</th>\n",
       "      <td>5588.0</td>\n",
       "      <td>3</td>\n",
       "      <td>9.685867e+05</td>\n",
       "    </tr>\n",
       "    <tr>\n",
       "      <th>86f284342106</th>\n",
       "      <td>5094.0</td>\n",
       "      <td>5</td>\n",
       "      <td>5.297760e+05</td>\n",
       "    </tr>\n",
       "    <tr>\n",
       "      <th>7d112681b8dd</th>\n",
       "      <td>4646.0</td>\n",
       "      <td>2</td>\n",
       "      <td>1.207960e+06</td>\n",
       "    </tr>\n",
       "    <tr>\n",
       "      <th>a1881c06eec9</th>\n",
       "      <td>1324.0</td>\n",
       "      <td>1</td>\n",
       "      <td>6.884800e+05</td>\n",
       "    </tr>\n",
       "    <tr>\n",
       "      <th>06e6eef6adf2</th>\n",
       "      <td>NaN</td>\n",
       "      <td>2</td>\n",
       "      <td>NaN</td>\n",
       "    </tr>\n",
       "  </tbody>\n",
       "</table>\n",
       "</div>"
      ],
      "text/plain": [
       "              total_amount_in_dollars  count_visits  lifetime_value\n",
       "customer_id                                                        \n",
       "7bdeecc97cf8                  32975.0             7    2.449571e+06\n",
       "0b7f849446d3                  21576.0             3    3.739840e+06\n",
       "312a46dc5211                  14744.0             3    2.555627e+06\n",
       "a14c955bda57                   8227.0             3    1.426013e+06\n",
       "b3daa77b4c04                   5588.0             3    9.685867e+05\n",
       "86f284342106                   5094.0             5    5.297760e+05\n",
       "7d112681b8dd                   4646.0             2    1.207960e+06\n",
       "a1881c06eec9                   1324.0             1    6.884800e+05\n",
       "06e6eef6adf2                      NaN             2             NaN"
      ]
     },
     "execution_count": 8,
     "metadata": {},
     "output_type": "execute_result"
    }
   ],
   "source": [
    "result['lifetime_value'] = (52* (result.total_amount_in_dollars / result.type) * 10)\n",
    "result.sort_values('lifetime_value', ascending = False) \n",
    "result.rename(index=str, columns={\"type\": \"count_visits\"})"
   ]
  }
 ],
 "metadata": {
  "anaconda-cloud": {},
  "kernelspec": {
   "display_name": "Python [conda root]",
   "language": "python",
   "name": "conda-root-py"
  },
  "language_info": {
   "codemirror_mode": {
    "name": "ipython",
    "version": 3
   },
   "file_extension": ".py",
   "mimetype": "text/x-python",
   "name": "python",
   "nbconvert_exporter": "python",
   "pygments_lexer": "ipython3",
   "version": "3.5.2"
  }
 },
 "nbformat": 4,
 "nbformat_minor": 1
}
