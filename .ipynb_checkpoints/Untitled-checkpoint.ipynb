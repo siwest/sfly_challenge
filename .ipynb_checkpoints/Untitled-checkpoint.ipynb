{
 "cells": [
  {
   "cell_type": "code",
   "execution_count": 1,
   "metadata": {
    "collapsed": true
   },
   "outputs": [],
   "source": [
    "import matplotlib\n",
    "import numpy as np\n",
    "import pandas as pd\n",
    "%matplotlib inline"
   ]
  },
  {
   "cell_type": "code",
   "execution_count": 83,
   "metadata": {
    "collapsed": true
   },
   "outputs": [],
   "source": [
    "input_df = pd.read_json('./input/input.txt')"
   ]
  },
  {
   "cell_type": "code",
   "execution_count": 84,
   "metadata": {},
   "outputs": [],
   "source": [
    "input_df.fillna(\"\", inplace=True)"
   ]
  },
  {
   "cell_type": "code",
   "execution_count": 88,
   "metadata": {},
   "outputs": [
    {
     "data": {
      "text/html": [
       "<div>\n",
       "<style>\n",
       "    .dataframe thead tr:only-child th {\n",
       "        text-align: right;\n",
       "    }\n",
       "\n",
       "    .dataframe thead th {\n",
       "        text-align: left;\n",
       "    }\n",
       "\n",
       "    .dataframe tbody tr th {\n",
       "        vertical-align: top;\n",
       "    }\n",
       "</style>\n",
       "<table border=\"1\" class=\"dataframe\">\n",
       "  <thead>\n",
       "    <tr style=\"text-align: right;\">\n",
       "      <th></th>\n",
       "      <th>adr_city</th>\n",
       "      <th>adr_state</th>\n",
       "      <th>camera_make</th>\n",
       "      <th>customer_id</th>\n",
       "      <th>event_time</th>\n",
       "      <th>key</th>\n",
       "      <th>last_name</th>\n",
       "      <th>total_amount</th>\n",
       "      <th>type</th>\n",
       "      <th>verb</th>\n",
       "      <th>total_amount_in_dollars</th>\n",
       "    </tr>\n",
       "  </thead>\n",
       "  <tbody>\n",
       "    <tr>\n",
       "      <th>0</th>\n",
       "      <td></td>\n",
       "      <td></td>\n",
       "      <td></td>\n",
       "      <td>06e6eef6adf2</td>\n",
       "      <td>2017-06-02 23:33:54</td>\n",
       "      <td>06e6eef6adf2</td>\n",
       "      <td></td>\n",
       "      <td></td>\n",
       "      <td>SITE_VISIT</td>\n",
       "      <td>NEW</td>\n",
       "      <td>NaN</td>\n",
       "    </tr>\n",
       "    <tr>\n",
       "      <th>1</th>\n",
       "      <td></td>\n",
       "      <td></td>\n",
       "      <td></td>\n",
       "      <td>7bdeecc97cf8</td>\n",
       "      <td>2017-06-06 06:30:09</td>\n",
       "      <td>7bdeecc97cf8</td>\n",
       "      <td></td>\n",
       "      <td>2233 USD</td>\n",
       "      <td>ORDER</td>\n",
       "      <td>UPDATE</td>\n",
       "      <td>2233.0</td>\n",
       "    </tr>\n",
       "    <tr>\n",
       "      <th>2</th>\n",
       "      <td>Lockhaven</td>\n",
       "      <td>MD</td>\n",
       "      <td></td>\n",
       "      <td></td>\n",
       "      <td>2017-06-01 06:53:52</td>\n",
       "      <td>7bdeecc97cf8</td>\n",
       "      <td>Peter</td>\n",
       "      <td></td>\n",
       "      <td>CUSTOMER</td>\n",
       "      <td>NEW</td>\n",
       "      <td>NaN</td>\n",
       "    </tr>\n",
       "    <tr>\n",
       "      <th>3</th>\n",
       "      <td>Portland</td>\n",
       "      <td></td>\n",
       "      <td></td>\n",
       "      <td></td>\n",
       "      <td>2017-06-01 20:25:11</td>\n",
       "      <td>a1881c06eec9</td>\n",
       "      <td>Peter</td>\n",
       "      <td></td>\n",
       "      <td>CUSTOMER</td>\n",
       "      <td>NEW</td>\n",
       "      <td>NaN</td>\n",
       "    </tr>\n",
       "    <tr>\n",
       "      <th>4</th>\n",
       "      <td></td>\n",
       "      <td></td>\n",
       "      <td></td>\n",
       "      <td>06e6eef6adf2</td>\n",
       "      <td>2017-06-02 01:44:28</td>\n",
       "      <td>06e6eef6adf2</td>\n",
       "      <td></td>\n",
       "      <td></td>\n",
       "      <td>SITE_VISIT</td>\n",
       "      <td>NEW</td>\n",
       "      <td>NaN</td>\n",
       "    </tr>\n",
       "  </tbody>\n",
       "</table>\n",
       "</div>"
      ],
      "text/plain": [
       "    adr_city adr_state camera_make   customer_id          event_time  \\\n",
       "0                                   06e6eef6adf2 2017-06-02 23:33:54   \n",
       "1                                   7bdeecc97cf8 2017-06-06 06:30:09   \n",
       "2  Lockhaven        MD                           2017-06-01 06:53:52   \n",
       "3   Portland                                     2017-06-01 20:25:11   \n",
       "4                                   06e6eef6adf2 2017-06-02 01:44:28   \n",
       "\n",
       "            key last_name total_amount        type    verb  \\\n",
       "0  06e6eef6adf2                         SITE_VISIT     NEW   \n",
       "1  7bdeecc97cf8               2233 USD       ORDER  UPDATE   \n",
       "2  7bdeecc97cf8     Peter                 CUSTOMER     NEW   \n",
       "3  a1881c06eec9     Peter                 CUSTOMER     NEW   \n",
       "4  06e6eef6adf2                         SITE_VISIT     NEW   \n",
       "\n",
       "   total_amount_in_dollars  \n",
       "0                      NaN  \n",
       "1                   2233.0  \n",
       "2                      NaN  \n",
       "3                      NaN  \n",
       "4                      NaN  "
      ]
     },
     "execution_count": 88,
     "metadata": {},
     "output_type": "execute_result"
    }
   ],
   "source": [
    "input_df.head()"
   ]
  },
  {
   "cell_type": "code",
   "execution_count": 92,
   "metadata": {},
   "outputs": [],
   "source": [
    "input_df['total_amount_in_dollars'] = pd.to_numeric(input_df['total_amount'].apply(lambda x: x.replace(\" USD\",\"\"))) "
   ]
  },
  {
   "cell_type": "code",
   "execution_count": 87,
   "metadata": {},
   "outputs": [
    {
     "data": {
      "text/html": [
       "<div>\n",
       "<style>\n",
       "    .dataframe thead tr:only-child th {\n",
       "        text-align: right;\n",
       "    }\n",
       "\n",
       "    .dataframe thead th {\n",
       "        text-align: left;\n",
       "    }\n",
       "\n",
       "    .dataframe tbody tr th {\n",
       "        vertical-align: top;\n",
       "    }\n",
       "</style>\n",
       "<table border=\"1\" class=\"dataframe\">\n",
       "  <thead>\n",
       "    <tr style=\"text-align: right;\">\n",
       "      <th></th>\n",
       "      <th>total_amount_in_dollars</th>\n",
       "    </tr>\n",
       "    <tr>\n",
       "      <th>customer_id</th>\n",
       "      <th></th>\n",
       "    </tr>\n",
       "  </thead>\n",
       "  <tbody>\n",
       "    <tr>\n",
       "      <th></th>\n",
       "      <td>NaN</td>\n",
       "    </tr>\n",
       "    <tr>\n",
       "      <th>06e6eef6adf2</th>\n",
       "      <td>20337.0</td>\n",
       "    </tr>\n",
       "    <tr>\n",
       "      <th>0b7f849446d3</th>\n",
       "      <td>23892.0</td>\n",
       "    </tr>\n",
       "    <tr>\n",
       "      <th>312a46dc5211</th>\n",
       "      <td>2535.0</td>\n",
       "    </tr>\n",
       "    <tr>\n",
       "      <th>7bdeecc97cf8</th>\n",
       "      <td>6914.0</td>\n",
       "    </tr>\n",
       "    <tr>\n",
       "      <th>7d112681b8dd</th>\n",
       "      <td>23992.0</td>\n",
       "    </tr>\n",
       "    <tr>\n",
       "      <th>86f284342106</th>\n",
       "      <td>11019.0</td>\n",
       "    </tr>\n",
       "    <tr>\n",
       "      <th>a14c955bda57</th>\n",
       "      <td>11718.0</td>\n",
       "    </tr>\n",
       "    <tr>\n",
       "      <th>a1881c06eec9</th>\n",
       "      <td>33952.0</td>\n",
       "    </tr>\n",
       "    <tr>\n",
       "      <th>b3daa77b4c04</th>\n",
       "      <td>18468.0</td>\n",
       "    </tr>\n",
       "  </tbody>\n",
       "</table>\n",
       "</div>"
      ],
      "text/plain": [
       "              total_amount_in_dollars\n",
       "customer_id                          \n",
       "                                  NaN\n",
       "06e6eef6adf2                  20337.0\n",
       "0b7f849446d3                  23892.0\n",
       "312a46dc5211                   2535.0\n",
       "7bdeecc97cf8                   6914.0\n",
       "7d112681b8dd                  23992.0\n",
       "86f284342106                  11019.0\n",
       "a14c955bda57                  11718.0\n",
       "a1881c06eec9                  33952.0\n",
       "b3daa77b4c04                  18468.0"
      ]
     },
     "execution_count": 87,
     "metadata": {},
     "output_type": "execute_result"
    }
   ],
   "source": [
    "input_df.groupby('customer_id').agg({'total_amount_in_dollars': np.sum,}).sort('total_amount_in_dollars')"
   ]
  },
  {
   "cell_type": "code",
   "execution_count": 58,
   "metadata": {},
   "outputs": [
    {
     "data": {
      "text/plain": [
       "0          \n",
       "1     2233 \n",
       "2          \n",
       "3          \n",
       "4          \n",
       "5          \n",
       "6     1011 \n",
       "7          \n",
       "8          \n",
       "9          \n",
       "10         \n",
       "11         \n",
       "12         \n",
       "13    4626 \n",
       "14         \n",
       "15    8737 \n",
       "16         \n",
       "17         \n",
       "18    2056 \n",
       "19         \n",
       "20    1680 \n",
       "21         \n",
       "22         \n",
       "23    6081 \n",
       "24    4717 \n",
       "25         \n",
       "26         \n",
       "27         \n",
       "28         \n",
       "29    8249 \n",
       "      ...  \n",
       "70         \n",
       "71         \n",
       "72         \n",
       "73         \n",
       "74         \n",
       "75    2535 \n",
       "76         \n",
       "77    6129 \n",
       "78         \n",
       "79         \n",
       "80         \n",
       "81         \n",
       "82         \n",
       "83    4086 \n",
       "84    2554 \n",
       "85         \n",
       "86         \n",
       "87         \n",
       "88    6978 \n",
       "89         \n",
       "90    6829 \n",
       "91    8004 \n",
       "92         \n",
       "93         \n",
       "94    9089 \n",
       "95         \n",
       "96         \n",
       "97      54 \n",
       "98         \n",
       "99         \n",
       "Name: total_amount_in_dollars, Length: 100, dtype: object"
      ]
     },
     "execution_count": 58,
     "metadata": {},
     "output_type": "execute_result"
    }
   ],
   "source": [
    "input_df['total_amount_in_dollars'].apply(lambda x: float(x))"
   ]
  },
  {
   "cell_type": "code",
   "execution_count": 93,
   "metadata": {},
   "outputs": [
    {
     "data": {
      "text/plain": [
       "adr_city                   32\n",
       "adr_state                  32\n",
       "camera_make                32\n",
       "customer_id                32\n",
       "event_time                 32\n",
       "key                        32\n",
       "last_name                  32\n",
       "total_amount               32\n",
       "type                       32\n",
       "verb                       32\n",
       "total_amount_in_dollars    32\n",
       "dtype: int64"
      ]
     },
     "execution_count": 93,
     "metadata": {},
     "output_type": "execute_result"
    }
   ],
   "source": [
    "input_df[input_df.type == 'ORDER'].count() "
   ]
  },
  {
   "cell_type": "code",
   "execution_count": 98,
   "metadata": {},
   "outputs": [
    {
     "ename": "TypeError",
     "evalue": "'DataFrame' objects are mutable, thus they cannot be hashed",
     "output_type": "error",
     "traceback": [
      "\u001b[0;31m---------------------------------------------------------------------------\u001b[0m",
      "\u001b[0;31mTypeError\u001b[0m                                 Traceback (most recent call last)",
      "\u001b[0;32m<ipython-input-98-fd42f07913d4>\u001b[0m in \u001b[0;36m<module>\u001b[0;34m()\u001b[0m\n\u001b[0;32m----> 1\u001b[0;31m \u001b[0minput_df\u001b[0m\u001b[0;34m.\u001b[0m\u001b[0mgroupby\u001b[0m\u001b[0;34m(\u001b[0m\u001b[0;34m'customer_id'\u001b[0m\u001b[0;34m)\u001b[0m\u001b[0;34m.\u001b[0m\u001b[0magg\u001b[0m\u001b[0;34m(\u001b[0m\u001b[0;34m{\u001b[0m\u001b[0minput_df\u001b[0m\u001b[0;34m[\u001b[0m\u001b[0minput_df\u001b[0m\u001b[0;34m.\u001b[0m\u001b[0mtype\u001b[0m \u001b[0;34m==\u001b[0m \u001b[0;34m'ORDER'\u001b[0m\u001b[0;34m]\u001b[0m\u001b[0;34m:\u001b[0m \u001b[0minput_df\u001b[0m\u001b[0;34m.\u001b[0m\u001b[0msize\u001b[0m\u001b[0;34m}\u001b[0m\u001b[0;34m)\u001b[0m\u001b[0;34m\u001b[0m\u001b[0m\n\u001b[0m",
      "\u001b[0;32m/Users/sarah/anaconda3/lib/python3.5/site-packages/pandas/core/generic.py\u001b[0m in \u001b[0;36m__hash__\u001b[0;34m(self)\u001b[0m\n\u001b[1;32m    877\u001b[0m     \u001b[0;32mdef\u001b[0m \u001b[0m__hash__\u001b[0m\u001b[0;34m(\u001b[0m\u001b[0mself\u001b[0m\u001b[0;34m)\u001b[0m\u001b[0;34m:\u001b[0m\u001b[0;34m\u001b[0m\u001b[0m\n\u001b[1;32m    878\u001b[0m         raise TypeError('{0!r} objects are mutable, thus they cannot be'\n\u001b[0;32m--> 879\u001b[0;31m                         ' hashed'.format(self.__class__.__name__))\n\u001b[0m\u001b[1;32m    880\u001b[0m \u001b[0;34m\u001b[0m\u001b[0m\n\u001b[1;32m    881\u001b[0m     \u001b[0;32mdef\u001b[0m \u001b[0m__iter__\u001b[0m\u001b[0;34m(\u001b[0m\u001b[0mself\u001b[0m\u001b[0;34m)\u001b[0m\u001b[0;34m:\u001b[0m\u001b[0;34m\u001b[0m\u001b[0m\n",
      "\u001b[0;31mTypeError\u001b[0m: 'DataFrame' objects are mutable, thus they cannot be hashed"
     ]
    }
   ],
   "source": [
    "input_df.groupby('customer_id').agg({input_df[input_df.type == 'ORDER']: np.sum})"
   ]
  },
  {
   "cell_type": "code",
   "execution_count": null,
   "metadata": {
    "collapsed": true
   },
   "outputs": [],
   "source": []
  }
 ],
 "metadata": {
  "anaconda-cloud": {},
  "kernelspec": {
   "display_name": "Python [conda root]",
   "language": "python",
   "name": "conda-root-py"
  },
  "language_info": {
   "codemirror_mode": {
    "name": "ipython",
    "version": 3
   },
   "file_extension": ".py",
   "mimetype": "text/x-python",
   "name": "python",
   "nbconvert_exporter": "python",
   "pygments_lexer": "ipython3",
   "version": "3.5.2"
  }
 },
 "nbformat": 4,
 "nbformat_minor": 1
}
